{
 "cells": [
  {
   "cell_type": "code",
   "execution_count": 1,
   "metadata": {},
   "outputs": [],
   "source": [
    "import pandas as pd\n",
    "import re\n",
    "\n",
    "pd.set_option('display.max_columns', None)"
   ]
  },
  {
   "cell_type": "code",
   "execution_count": 2,
   "metadata": {},
   "outputs": [],
   "source": [
    "db_temp = pd.read_csv('C://Users//eduar//Desktop//DEV//Football//PremierLeague//database_temp.csv')\n",
    "db = pd.read_csv('C://Users//eduar//Desktop//DEV//Football//PremierLeague//database.csv',index_col=None)\n",
    "\n",
    "# Criando Backup\n",
    "db.to_csv('C://Users//eduar//Desktop//DEV//Football//PremierLeague//database_bu.csv', index= False)\n",
    "\n",
    "# Concatenando bases\n",
    "db_final = pd.concat([db,db_temp], ignore_index= True)\n",
    "\n",
    "# Tratamento de duplicadas\n",
    "db_final = db_final.drop_duplicates(subset=['Jogador','Data'])"
   ]
  },
  {
   "cell_type": "code",
   "execution_count": null,
   "metadata": {},
   "outputs": [],
   "source": [
    "db_final"
   ]
  }
 ],
 "metadata": {
  "kernelspec": {
   "display_name": "Python 3 (ipykernel)",
   "language": "python",
   "name": "python3"
  },
  "language_info": {
   "codemirror_mode": {
    "name": "ipython",
    "version": 3
   },
   "file_extension": ".py",
   "mimetype": "text/x-python",
   "name": "python",
   "nbconvert_exporter": "python",
   "pygments_lexer": "ipython3",
   "version": "3.11.7"
  }
 },
 "nbformat": 4,
 "nbformat_minor": 2
}
